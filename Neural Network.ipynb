{
 "cells": [
  {
   "cell_type": "code",
   "execution_count": 49,
   "metadata": {},
   "outputs": [],
   "source": [
    "class Node:\n",
    "\n",
    "    def __init__():\n",
    "        self.output = {}\n",
    "        \n",
    "class NeuralNet:\n",
    "    \n",
    "    def __init__(self, nodes_n_in_hidden_layers):\n",
    "        nodes_n_in_hidden_layers.append(1)\n",
    "        self.outputs = []\n",
    "        self.weights = []\n",
    "        self.local_gradients = []\n",
    "        n_nodes = 0\n",
    "        for i in range(0, len(nodes_n_in_hidden_layers)):\n",
    "            n_nodes += nodes_n_in_hidden_layers[i]\n",
    "        for i in range(0, n_nodes):\n",
    "            values = []\n",
    "            for j in range(0, n_nodes):\n",
    "                values.append(None)\n",
    "            self.outputs.append(values)\n",
    "            self.weights.append(values)\n",
    "            self.local_gradients.append(values)\n",
    "        current_node = 0\n",
    "        for i in range(0, len(nodes_n_in_hidden_layers)):\n",
    "            if (i < len(nodes_n_in_hidden_layers)-1):\n",
    "                next_layer_first_node = current_node + nodes_n_in_hidden_layers[i]\n",
    "                for j in range(0, nodes_n_in_hidden_layers[i]):\n",
    "                    print(current_node)\n",
    "                    for k in range(0, nodes_n_in_hidden_layers[i+1]):\n",
    "                        self.outputs[current_node][k+next_layer_first_node] = 0\n",
    "                        self.weights[current_node][k+next_layer_first_node] = 0\n",
    "                        self.local_gradients[current_node][k+next_layer_first_node] = 0\n",
    "                    current_node += 1\n",
    "            else:\n",
    "                pass"
   ]
  },
  {
   "cell_type": "code",
   "execution_count": 50,
   "metadata": {},
   "outputs": [
    {
     "name": "stdout",
     "output_type": "stream",
     "text": [
      "0\n",
      "1\n",
      "2\n",
      "3\n",
      "4\n"
     ]
    },
    {
     "data": {
      "text/plain": [
       "[[None, None, 0, 0, 0, None],\n",
       " [None, None, 0, 0, 0, None],\n",
       " [None, None, None, None, None, 0],\n",
       " [None, None, None, None, None, 0],\n",
       " [None, None, None, None, None, 0],\n",
       " [None, None, None, None, None, None]]"
      ]
     },
     "execution_count": 50,
     "metadata": {},
     "output_type": "execute_result"
    }
   ],
   "source": [
    "nn = NeuralNet([2,3])\n",
    "nn.weights"
   ]
  }
 ],
 "metadata": {
  "kernelspec": {
   "display_name": "Python 3",
   "language": "python",
   "name": "python3"
  },
  "language_info": {
   "codemirror_mode": {
    "name": "ipython",
    "version": 3
   },
   "file_extension": ".py",
   "mimetype": "text/x-python",
   "name": "python",
   "nbconvert_exporter": "python",
   "pygments_lexer": "ipython3",
   "version": "3.6.3"
  }
 },
 "nbformat": 4,
 "nbformat_minor": 2
}
